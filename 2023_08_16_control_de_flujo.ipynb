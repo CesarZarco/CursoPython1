{
  "cells": [
    {
      "cell_type": "markdown",
      "metadata": {
        "id": "eBamVCKkBXEa"
      },
      "source": [
        "Control de flujo\n",
        "================\n",
        "\n",
        "**Date:** 2023-08-16\n",
        "\n"
      ]
    },
    {
      "cell_type": "markdown",
      "metadata": {
        "id": "QEYH3epgBXEb"
      },
      "source": [
        "## Control de flujo\n",
        "\n"
      ]
    },
    {
      "cell_type": "markdown",
      "metadata": {
        "id": "RzgDAql0BXEc"
      },
      "source": [
        "### `if`\n",
        "\n"
      ]
    },
    {
      "cell_type": "code",
      "execution_count": 2,
      "metadata": {
        "id": "fjrKoCikBXEc",
        "outputId": "e44f4a3c-0b8e-4afc-8640-f3b289c68b68",
        "colab": {
          "base_uri": "https://localhost:8080/"
        }
      },
      "outputs": [
        {
          "output_type": "execute_result",
          "data": {
            "text/plain": [
              "['Alanis', 'Eduardo', 'Fernanda', 'Alejandro', 'Karem', 'Carlos', 'Hector']"
            ]
          },
          "metadata": {},
          "execution_count": 2
        }
      ],
      "source": [
        "inscritos = [\"Alanis\", \"Eduardo\", \"Fernanda\", \"Alejandro\", \"Karem\"]\n",
        "oyentes = [\"Carlos\", \"Hector\"]\n",
        "estudiantes = inscritos + oyentes\n",
        "estudiantes"
      ]
    },
    {
      "cell_type": "code",
      "execution_count": 10,
      "metadata": {
        "id": "cyxkHuB7BXEd"
      },
      "outputs": [],
      "source": [
        "if len(estudiantes) > 15:\n",
        "    print(\"Son muchos estudiantes\")"
      ]
    },
    {
      "cell_type": "code",
      "execution_count": 4,
      "metadata": {
        "id": "Jvyn7iFABXEe",
        "colab": {
          "base_uri": "https://localhost:8080/"
        },
        "outputId": "4679314a-e390-4532-8ee8-607fea75c833"
      },
      "outputs": [
        {
          "output_type": "stream",
          "name": "stdout",
          "text": [
            "Son pocos estudiantes. Ojalá entren oyentes\n"
          ]
        }
      ],
      "source": [
        "if len(estudiantes) > 10:\n",
        "    print(\"Son muchos estudiantes\")\n",
        "else:\n",
        "    print(\"Son pocos estudiantes\", end=\". \")\n",
        "    print(\"Ojalá entren oyentes\")"
      ]
    },
    {
      "cell_type": "code",
      "execution_count": 5,
      "metadata": {
        "id": "2huMqFPYBXEe",
        "colab": {
          "base_uri": "https://localhost:8080/"
        },
        "outputId": "4dd9cfbb-fc56-4771-96e9-9ac1b0d46ca2"
      },
      "outputs": [
        {
          "output_type": "stream",
          "name": "stdout",
          "text": [
            "Son cuando mucho cinco estudiantes\n"
          ]
        }
      ],
      "source": [
        "if len(inscritos) <= 5:\n",
        "    print(\"Son cuando mucho cinco estudiantes\")\n",
        "elif len(inscritos) == 6:\n",
        "    print(\"Son seis estudiantes\")\n",
        "else:\n",
        "    print(\"Son muchos estudiantes\", end=\". \")\n",
        "    print(\"Ojalá no entren oyentes\")"
      ]
    },
    {
      "cell_type": "markdown",
      "metadata": {
        "id": "gGHUe05VBXEf"
      },
      "source": [
        "### `for`\n",
        "\n"
      ]
    },
    {
      "cell_type": "code",
      "execution_count": 6,
      "metadata": {
        "id": "GD9fhKyCBXEf",
        "colab": {
          "base_uri": "https://localhost:8080/"
        },
        "outputId": "feca1a2c-70fa-4c55-85af-4825f4fb4c3f"
      },
      "outputs": [
        {
          "output_type": "stream",
          "name": "stdout",
          "text": [
            "Hola Alanis ¿Cómo estás?\n",
            "Hola Eduardo ¿Cómo estás?\n",
            "Hola Fernanda ¿Cómo estás?\n",
            "Hola Alejandro ¿Cómo estás?\n",
            "Hola Karem ¿Cómo estás?\n",
            "Hola Carlos ¿Cómo estás?\n",
            "Hola Hector ¿Cómo estás?\n"
          ]
        }
      ],
      "source": [
        "for estudiante in estudiantes:\n",
        "    print(\"Hola\", estudiante, \"¿Cómo estás?\")"
      ]
    },
    {
      "cell_type": "code",
      "execution_count": 7,
      "metadata": {
        "id": "-OUKtFxsBXEg",
        "colab": {
          "base_uri": "https://localhost:8080/"
        },
        "outputId": "d4a0c2bc-02f0-4088-e2f6-a30919bf68a3"
      },
      "outputs": [
        {
          "output_type": "stream",
          "name": "stdout",
          "text": [
            "Hola Alanis\n",
            "Hola Eduardo\n",
            "Hola Fernanda\n",
            "Hola Alejandro\n",
            "Hola Karem\n",
            "Hola Carlos\n",
            "Hola Hector\n"
          ]
        }
      ],
      "source": [
        "for i in range(len(estudiantes)):\n",
        "    print(\"Hola\", estudiantes[i])"
      ]
    },
    {
      "cell_type": "code",
      "execution_count": 12,
      "metadata": {
        "id": "tU5ZOP1PBXEh",
        "colab": {
          "base_uri": "https://localhost:8080/"
        },
        "outputId": "a9176945-f90d-4af0-b929-48a11c89d0ac"
      },
      "outputs": [
        {
          "output_type": "stream",
          "name": "stdout",
          "text": [
            "3\n",
            "2\n",
            "1\n"
          ]
        }
      ],
      "source": [
        "for j in range(3, -0, -1):\n",
        "    print(j)\n",
        "    if j == 0:\n",
        "        print(\"Booom\")"
      ]
    },
    {
      "cell_type": "markdown",
      "source": [
        "Range puede tener tres valores, el primero es donde empieza una lista, el segundo es uno despues de donde se termina la lista y el último es el tamaño de la rebanada con la que se nos presenta la lista."
      ],
      "metadata": {
        "id": "euMbTAtOHq3J"
      }
    },
    {
      "cell_type": "code",
      "source": [
        "list(range(5,-3,-2))\n"
      ],
      "metadata": {
        "colab": {
          "base_uri": "https://localhost:8080/"
        },
        "id": "8T09EAFnHHR_",
        "outputId": "24adfafd-4788-4dc0-cabf-fc9501316aaf"
      },
      "execution_count": 19,
      "outputs": [
        {
          "output_type": "execute_result",
          "data": {
            "text/plain": [
              "[5, 3, 1, -1]"
            ]
          },
          "metadata": {},
          "execution_count": 19
        }
      ]
    },
    {
      "cell_type": "code",
      "execution_count": 9,
      "metadata": {
        "id": "CR5C3M_IBXEi",
        "colab": {
          "base_uri": "https://localhost:8080/"
        },
        "outputId": "5cf35db3-1205-4314-8325-6fe6bf520295"
      },
      "outputs": [
        {
          "output_type": "execute_result",
          "data": {
            "text/plain": [
              "range(0, 7897987978979779878979797987987979779797979)"
            ]
          },
          "metadata": {},
          "execution_count": 9
        }
      ],
      "source": [
        "range(7897987978979779878979797987987979779797979)"
      ]
    },
    {
      "cell_type": "markdown",
      "metadata": {
        "id": "AuddpOE1BXEi"
      },
      "source": [
        "La suma de todos los números del 1 al 100.\n",
        "\n"
      ]
    },
    {
      "cell_type": "code",
      "execution_count": 20,
      "metadata": {
        "id": "ZC_z4pzaBXEi",
        "colab": {
          "base_uri": "https://localhost:8080/"
        },
        "outputId": "8414af86-6847-4956-fef8-61b4c28fca25"
      },
      "outputs": [
        {
          "output_type": "execute_result",
          "data": {
            "text/plain": [
              "5050"
            ]
          },
          "metadata": {},
          "execution_count": 20
        }
      ],
      "source": [
        "sum(range(101))"
      ]
    },
    {
      "cell_type": "markdown",
      "metadata": {
        "id": "SUetzHXsBXEj"
      },
      "source": [
        "### break, continue y else en ciclos for\n",
        "\n"
      ]
    },
    {
      "cell_type": "markdown",
      "metadata": {
        "id": "z6qjAT0gBXEj"
      },
      "source": [
        "#### break\n",
        "\n"
      ]
    },
    {
      "cell_type": "markdown",
      "metadata": {
        "id": "XsjJOIruBXEj"
      },
      "source": [
        "`break` sirve para interrumpir un ciclo for.\n",
        "\n"
      ]
    },
    {
      "cell_type": "code",
      "execution_count": 21,
      "metadata": {
        "id": "CoT9q8c7BXEj",
        "colab": {
          "base_uri": "https://localhost:8080/"
        },
        "outputId": "d3aaf7cb-905c-47a8-f08a-ea8ae1d03295"
      },
      "outputs": [
        {
          "output_type": "stream",
          "name": "stdout",
          "text": [
            "Hola Alanis ¿Cómo estás?\n",
            "Hola Eduardo ¿Cómo estás?\n",
            "Hola Fernanda ¿Cómo estás?\n",
            "Hola Alejandro ¿Cómo estás?\n",
            "Hola Karem ¿Cómo estás?\n",
            "Ya saludé a los inscritos\n"
          ]
        }
      ],
      "source": [
        "for estudiante in estudiantes:\n",
        "    print(\"Hola\", estudiante, \"¿Cómo estás?\")\n",
        "    if estudiante == \"Karem\":\n",
        "        break\n",
        "\n",
        "print(\"Ya saludé a los inscritos\")"
      ]
    },
    {
      "cell_type": "markdown",
      "metadata": {
        "id": "xUmSsAELBXEj"
      },
      "source": [
        "#### else en un ciclo for\n",
        "\n"
      ]
    },
    {
      "cell_type": "markdown",
      "metadata": {
        "id": "7s1vwHTVBXEk"
      },
      "source": [
        "La cláusula `else` en un ciclo `for` se ejecuta cuando el ciclo `for` termina de manera \"natural\", sin haber pasado por una cláusula `break`.\n",
        "\n"
      ]
    },
    {
      "cell_type": "code",
      "execution_count": 22,
      "metadata": {
        "id": "SUUtizcEBXEk",
        "colab": {
          "base_uri": "https://localhost:8080/"
        },
        "outputId": "28da0481-d529-4704-962a-5906f1a95e9b"
      },
      "outputs": [
        {
          "output_type": "stream",
          "name": "stdout",
          "text": [
            "2 es un número primo\n",
            "3 es un número primo\n",
            "4 es igual a 2 * 2\n",
            "5 es un número primo\n",
            "6 es igual a 2 * 3\n",
            "7 es un número primo\n",
            "8 es igual a 2 * 4\n",
            "9 es igual a 3 * 3\n"
          ]
        }
      ],
      "source": [
        "for n in range(2, 10):\n",
        "    for x in range(2, n):\n",
        "        if n % x == 0:\n",
        "            print(n, 'es igual a', x, '*', n//x)\n",
        "            break\n",
        "    else:\n",
        "        # se terminó de checar posibles divisores sin encontrar uno\n",
        "        print(n, 'es un número primo')"
      ]
    },
    {
      "cell_type": "markdown",
      "metadata": {
        "id": "vpLYB4MBBXEk"
      },
      "source": [
        "#### continue\n",
        "**break** se sale del ciclo for, sin embargo, **continue** simplemente se salta al siguiente ciclo\n",
        "\n"
      ]
    },
    {
      "cell_type": "code",
      "execution_count": 27,
      "metadata": {
        "id": "e266vzd8BXEk",
        "colab": {
          "base_uri": "https://localhost:8080/"
        },
        "outputId": "86c587fb-05c1-41f1-8637-95e7536b61ba"
      },
      "outputs": [
        {
          "output_type": "stream",
          "name": "stdout",
          "text": [
            "Hola Alanis ¿Cómo estás?\n",
            "¿Qué materias estás llevando, Alanis ?\n",
            "Hola Eduardo ¿Cómo estás?\n",
            "¿Qué materias estás llevando, Eduardo ?\n",
            "Hola Fernanda ¿Cómo estás?\n",
            "¿Qué materias estás llevando, Fernanda ?\n",
            "Hola Alejandro ¿Cómo estás?\n"
          ]
        }
      ],
      "source": [
        "for estudiante in estudiantes:\n",
        "    print(\"Hola\", estudiante, \"¿Cómo estás?\")\n",
        "    if estudiante in [\"Alejandro\", \"Hector\"]:\n",
        "        break\n",
        "    print(\"¿Qué materias estás llevando,\", estudiante,\"?\")"
      ]
    },
    {
      "cell_type": "markdown",
      "metadata": {
        "id": "WasEzqzHBXEl"
      },
      "source": [
        "#### pass\n",
        "\n"
      ]
    },
    {
      "cell_type": "markdown",
      "metadata": {
        "id": "uhy5xXU-BXEl"
      },
      "source": [
        "La claúsula `pass` no hace nada, pero puede servir para que un programa incompleto sea sintácticamente correcto.\n",
        "\n"
      ]
    },
    {
      "cell_type": "code",
      "execution_count": 31,
      "metadata": {
        "id": "io9YJP-nBXEl",
        "colab": {
          "base_uri": "https://localhost:8080/"
        },
        "outputId": "a656ee8f-9a46-400c-e312-c0f7052dec75"
      },
      "outputs": [
        {
          "output_type": "stream",
          "name": "stdout",
          "text": [
            "Hola Alanis ¿Cómo estás?\n",
            "Hola Eduardo ¿Cómo estás?\n",
            "Hola Fernanda ¿Cómo estás?\n",
            "Hola Alejandro ¿Cómo estás?\n",
            "Hola Karem ¿Cómo estás?\n",
            "Hola Carlos ¿Cómo estás?\n",
            "Hola Hector ¿Cómo estás?\n"
          ]
        }
      ],
      "source": [
        "for estudiante in estudiantes:\n",
        "    print(\"Hola\", estudiante, \"¿Cómo estás?\")\n",
        "    if estudiante in [\"Uriel\", \"Ruth\"]:\n",
        "        pass"
      ]
    },
    {
      "cell_type": "code",
      "execution_count": 32,
      "metadata": {
        "id": "BnOaDryaBXEl",
        "colab": {
          "base_uri": "https://localhost:8080/"
        },
        "outputId": "5e635851-f3b2-4594-a1bb-79710bff3e44"
      },
      "outputs": [
        {
          "output_type": "stream",
          "name": "stdout",
          "text": [
            "Hola Alanis ¿Cómo estás?\n",
            "Hola Eduardo ¿Cómo estás?\n",
            "Hola Fernanda ¿Cómo estás?\n",
            "Hola Alejandro ¿Cómo estás?\n",
            "Hola Karem ¿Cómo estás?\n",
            "Hola Carlos ¿Cómo estás?\n",
            "Hola Carlos ¿Eres oyente?\n",
            "Hola Hector ¿Cómo estás?\n",
            "Hola Hector ¿Eres oyente?\n"
          ]
        }
      ],
      "source": [
        "for estudiante in estudiantes:\n",
        "    print(\"Hola\", estudiante, \"¿Cómo estás?\")\n",
        "    if estudiante in [\"Carlos\", \"Hector\"]:\n",
        "        print(\"Hola\", estudiante, \"¿Eres oyente?\")"
      ]
    }
  ],
  "metadata": {
    "kernelspec": {
      "display_name": "Python 3",
      "language": "python",
      "name": "python3"
    },
    "language_info": {
      "codemirror_mode": {
        "name": "ipython",
        "version": 3
      },
      "file_extension": ".py",
      "mimetype": "text/x-python",
      "name": "python",
      "nbconvert_exporter": "python",
      "pygments_lexer": "ipython3",
      "version": "3.9.2"
    },
    "org": null,
    "colab": {
      "provenance": []
    }
  },
  "nbformat": 4,
  "nbformat_minor": 0
}