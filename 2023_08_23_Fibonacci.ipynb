{
  "nbformat": 4,
  "nbformat_minor": 0,
  "metadata": {
    "colab": {
      "provenance": []
    },
    "kernelspec": {
      "name": "python3",
      "display_name": "Python 3"
    },
    "language_info": {
      "name": "python"
    }
  },
  "cells": [
    {
      "cell_type": "markdown",
      "source": [
        "Se realizo un código, el cual se muestra a continuación, que verifica si un numero de fibonacci es o no una potencia perfecta. Corriendo el código para todos los numeros de Fibonacci que son menores a 10²⁰ se encontro que solo los numeros [0, 1, 8, 144] son potencias perfectas."
      ],
      "metadata": {
        "id": "MjeEQucxI3Cc"
      }
    },
    {
      "cell_type": "code",
      "source": [
        "def es_potencia(n, pot):\n",
        "    return int((n**(1/pot))) ** pot == n\n",
        "\n",
        "def potencias_fibonacci(n,pot=2):\n",
        "    fibs = []\n",
        "    a, b = 0, 1\n",
        "    while a < n:\n",
        "        if es_potencia(a,pot):\n",
        "            fibs.append(a)\n",
        "        a, b = b, a+b\n",
        "    return fibs\n",
        "\n",
        "potencias_fibonacci(100000000000000000000000000000000,pot=7)"
      ],
      "metadata": {
        "colab": {
          "base_uri": "https://localhost:8080/"
        },
        "id": "kdxN2IqkJrIt",
        "outputId": "5cd5b078-c980-4340-9f35-b0037dc14aad"
      },
      "execution_count": 1,
      "outputs": [
        {
          "output_type": "execute_result",
          "data": {
            "text/plain": [
              "[0, 1, 1]"
            ]
          },
          "metadata": {},
          "execution_count": 1
        }
      ]
    },
    {
      "cell_type": "markdown",
      "source": [
        "Este problema a sido estudiado y demostrado. Un articulo que demuestra la validez de la hipotesis se encuentra en la revista matematica, annals of mathematics, titulado, Classical and modular approaches to exponential Diophantine equations I. Fibonacci and Lucas perfect powers, se muestra a continuacion.\n",
        "\n",
        "https://annals.math.princeton.edu/wp-content/uploads/annals-v163-n3-p05.pdf\n",
        "\n"
      ],
      "metadata": {
        "id": "0ykVtNkeJv7M"
      }
    }
  ]
}