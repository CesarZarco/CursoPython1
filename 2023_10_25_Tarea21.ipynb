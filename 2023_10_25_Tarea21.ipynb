{
  "nbformat": 4,
  "nbformat_minor": 0,
  "metadata": {
    "colab": {
      "provenance": []
    },
    "kernelspec": {
      "name": "python3",
      "display_name": "Python 3"
    },
    "language_info": {
      "name": "python"
    }
  },
  "cells": [
    {
      "cell_type": "markdown",
      "metadata": {
        "id": "pFPB2FijORWS"
      },
      "source": [
        "### Ecuación de recta tangente\n",
        "\n"
      ]
    },
    {
      "cell_type": "markdown",
      "metadata": {
        "id": "djKeLaeEORWS"
      },
      "source": [
        "Dada una expresión algebraica y un punto, define una función que regrese la ecuación de la recta tangente en el punto. (La ecuación se puede representar con `Eq`).\n",
        "\n"
      ]
    },
    {
      "cell_type": "code",
      "source": [
        "from sympy import init_printing, diff, Eq, symbols\n",
        "init_printing(use_latex=True)\n",
        "x , y = symbols('x y')\n",
        "\n",
        "def eqtan(expresion, punto):\n",
        "    \"\"\"Calcula la equacion de la recta tangente\"\"\"\n",
        "    return Eq(y,diff(expresion,x).subs(x,punto)*(x-punto)+expresion.subs(x,punto))\n",
        "\n",
        "eqtan((x+2)**3, 1)"
      ],
      "metadata": {
        "colab": {
          "base_uri": "https://localhost:8080/",
          "height": 38
        },
        "id": "04NZijEoPl4C",
        "outputId": "8c4554e3-a9a2-421f-d60d-2877a3de6d94"
      },
      "execution_count": null,
      "outputs": [
        {
          "output_type": "execute_result",
          "data": {
            "text/plain": [
              "y = 27⋅x"
            ],
            "text/latex": "$\\displaystyle y = 27 x$"
          },
          "metadata": {},
          "execution_count": 8
        }
      ]
    },
    {
      "cell_type": "markdown",
      "metadata": {
        "id": "bOdE8OVeORWS"
      },
      "source": [
        "### Matrices enteras con valores propios enteros\n",
        "\n"
      ]
    },
    {
      "cell_type": "markdown",
      "metadata": {
        "id": "eQ0Z8-2QORWS"
      },
      "source": [
        "Define una función que dada una lista, determine si todos sus valores son números enteros. (*Sugerencia*: Los números flotantes tienen un método `is_integer` que regresa `True` o `False`. Un número (incluyendo enteros de sympy) se puede convertir a flotante con la función `float`. La función `all`, que está incluida con Python, es tal que dada una lista, regresa `True` si todos sus elementos son `True`.)\n",
        "Usa la función anterior para determinar todas las matrices de la forma $\\begin{pmatrix}1 & n\\\\ 1&1\\end{pmatrix}$ con $n\\in\\{0,1,2,\\ldots, 99\\}$ tales que todos sus valores propios son enteros.\n",
        "\n"
      ]
    },
    {
      "cell_type": "code",
      "source": [
        "from sympy import Matrix\n",
        "\n",
        "def enteros(numeros):\n",
        "    \"\"\"Verifica si todos los numeros de una lista son enteros\"\"\"\n",
        "    return all([float(i).is_integer() for i in numeros])\n",
        "\n",
        "def matrices_vpe(n):\n",
        "    \"\"\"Regresa matrices cuyos valores propios son enteros\"\"\"\n",
        "    matrices = [Matrix([[1, i], [1, 1]]) for i in range(1, n+1)]\n",
        "    return [A for A in matrices if enteros(list(A.eigenvals().keys()))]\n",
        "\n",
        "matrices_vpe(99)"
      ],
      "metadata": {
        "colab": {
          "base_uri": "https://localhost:8080/",
          "height": 58
        },
        "id": "5A8mOU6iZSZd",
        "outputId": "8ce2044c-20ad-4c47-ad76-7d1c57afb1d5"
      },
      "execution_count": null,
      "outputs": [
        {
          "output_type": "execute_result",
          "data": {
            "text/plain": [
              "⎡⎡1  1⎤  ⎡1  4⎤  ⎡1  9⎤  ⎡1  16⎤  ⎡1  25⎤  ⎡1  36⎤  ⎡1  49⎤  ⎡1  64⎤  ⎡1  81⎤⎤\n",
              "⎢⎢    ⎥, ⎢    ⎥, ⎢    ⎥, ⎢     ⎥, ⎢     ⎥, ⎢     ⎥, ⎢     ⎥, ⎢     ⎥, ⎢     ⎥⎥\n",
              "⎣⎣1  1⎦  ⎣1  1⎦  ⎣1  1⎦  ⎣1  1 ⎦  ⎣1  1 ⎦  ⎣1  1 ⎦  ⎣1  1 ⎦  ⎣1  1 ⎦  ⎣1  1 ⎦⎦"
            ],
            "text/latex": "$\\displaystyle \\left[ \\left[\\begin{matrix}1 & 1\\\\1 & 1\\end{matrix}\\right], \\  \\left[\\begin{matrix}1 & 4\\\\1 & 1\\end{matrix}\\right], \\  \\left[\\begin{matrix}1 & 9\\\\1 & 1\\end{matrix}\\right], \\  \\left[\\begin{matrix}1 & 16\\\\1 & 1\\end{matrix}\\right], \\  \\left[\\begin{matrix}1 & 25\\\\1 & 1\\end{matrix}\\right], \\  \\left[\\begin{matrix}1 & 36\\\\1 & 1\\end{matrix}\\right], \\  \\left[\\begin{matrix}1 & 49\\\\1 & 1\\end{matrix}\\right], \\  \\left[\\begin{matrix}1 & 64\\\\1 & 1\\end{matrix}\\right], \\  \\left[\\begin{matrix}1 & 81\\\\1 & 1\\end{matrix}\\right]\\right]$"
          },
          "metadata": {},
          "execution_count": 9
        }
      ]
    },
    {
      "cell_type": "markdown",
      "metadata": {
        "id": "jlsiuQdAeD4h"
      },
      "source": [
        "### Solucion de un sistema de ecuaciones diferenciales\n",
        "\n"
      ]
    },
    {
      "cell_type": "markdown",
      "metadata": {
        "id": "SSwT5G4dd5Zk"
      },
      "source": [
        "La **tarea** consiste en definir una función (o una serie de funciones), tal que, dada una lista de dos listas de dos números (que represente una matriz $A$, por ejemplo `A=[[1, 2], [3, 4]]`), y una lista de dos números (que representa las condiciones iniciales $(x_{0},y_{0})$ en $t=0$, por ejemplo, `v=[2,-1]`, regrese la solución del sistema de ecuaciones diferenciales (como una pareja de  funciones de $t$):\n",
        "\n",
        "\\begin{equation}\n",
        "\\label{eq:1}\n",
        "\\begin{pmatrix}\n",
        "x'(t)\\\\\n",
        "y'(t)\n",
        "\\end{pmatrix}=\n",
        "A\\begin{pmatrix}\n",
        "x(t)\\\\\n",
        "y(t)\n",
        "\\end{pmatrix}=\n",
        "\\begin{pmatrix}\n",
        "A_{11}x(t) + A_{12}y(t)\\\\\n",
        "A_{21}x(t) + A_{22}y(t)\n",
        "\\end{pmatrix}\n",
        "\\end{equation}\n",
        "\n",
        "que satisfaga las condiciones iniciales $x(0)=x_{0}$, $y(0)=y_{0}$.\n",
        "\n"
      ]
    },
    {
      "cell_type": "code",
      "source": [
        "from sympy import Function, dsolve, Derivative, solve\n",
        "\n",
        "def solve_dif(matriz, vector):\n",
        "    \"\"\"Regresa la solucion particular de una ecuacion diferencial\n",
        "    dadas condiciones iniciales\"\"\"\n",
        "    t, C1, C2 = symbols('t C1 C2')\n",
        "    x , y = symbols('x y', cls=Function)\n",
        "\n",
        "    #Ecuaciones diferenciales\n",
        "    eq1 = Eq(Derivative(x(t),t),matriz[0][0]*x(t)+matriz[0][1]*y(t))\n",
        "    eq2 = Eq(Derivative(y(t),t),matriz[1][0]*x(t)+matriz[1][1]*y(t))\n",
        "\n",
        "    sols = dsolve((eq1,eq2))\n",
        "\n",
        "    #Ecuaciones lineales\n",
        "    lineal1 = Eq(sols[0].subs({t:0}).rhs, vector[0])\n",
        "    lineal2 = Eq(sols[1].subs({t:0}).rhs, vector[1])\n",
        "\n",
        "    #Valores de C1 y C2\n",
        "    part = solve((lineal1, lineal2), (C1, C2))\n",
        "    ces = list(part.values())\n",
        "    return (sols[0].subs({C1:ces[0], C2:ces[1]}), sols[1].subs({C1:ces[0], C2:ces[1]}))\n",
        "\n",
        "\n",
        "solve_dif([[2, 1],[1,2]],[2,-1])"
      ],
      "metadata": {
        "colab": {
          "base_uri": "https://localhost:8080/",
          "height": 58
        },
        "id": "-aFglp3QevAI",
        "outputId": "5d566e67-c823-44cd-f85f-b543dd898be3"
      },
      "execution_count": null,
      "outputs": [
        {
          "output_type": "execute_result",
          "data": {
            "text/plain": [
              "⎛        3⋅t      t          3⋅t      t⎞\n",
              "⎜       ℯ      3⋅ℯ          ℯ      3⋅ℯ ⎟\n",
              "⎜x(t) = ──── + ────, y(t) = ──── - ────⎟\n",
              "⎝        2      2            2      2  ⎠"
            ],
            "text/latex": "$\\displaystyle \\left( x{\\left(t \\right)} = \\frac{e^{3 t}}{2} + \\frac{3 e^{t}}{2}, \\  y{\\left(t \\right)} = \\frac{e^{3 t}}{2} - \\frac{3 e^{t}}{2}\\right)$"
          },
          "metadata": {},
          "execution_count": 54
        }
      ]
    }
  ]
}